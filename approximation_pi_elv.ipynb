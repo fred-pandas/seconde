{
 "cells": [
  {
   "cell_type": "markdown",
   "metadata": {},
   "source": [
    "<div id=\"titre\">\n",
    "<h1 style=\"color:white;\n",
    "  font-family:Comic Sans MS;\n",
    "  font-size:3em;\n",
    "  background-color:#F0573B;\n",
    "  text-align:center;\n",
    "  padding:10px\">Approximation de $\\pi$ </h1>\n",
    "<div style=\"font-family:Comic Sans MS; background-color:black;box-shadow: 8px 8px 0px #aaa; text-align:center; width: 50%; color:white\">TP chapitre 8</div>\n",
    "</div>"
   ]
  },
  {
   "cell_type": "markdown",
   "metadata": {},
   "source": [
    "<b><u>Objectifs</u></b>\n",
    "<blockquote style=\"border-left: 10px solid black;background-color:#F0573B\">\n",
    "    <ul>\n",
    "        <li>Calculer de façon approchée la longueur de $\\mathscr{C}$.</li>\n",
    "        <li>Obtenir les premières décimales de $\\pi$</li>\n",
    "    </ul>\n",
    "</blockquote>"
   ]
  },
  {
   "cell_type": "markdown",
   "metadata": {},
   "source": [
    "Dans le plan muni d'un repère orthonormé $(O\\,,\\,I\\,,\\,J)$, on note $\\mathscr{C}$ le quart de cercle de rayon $1$ et d'origine $O$.\n",
    "<img src='quart_de_cercle.PNG' width='300px'>"
   ]
  },
  {
   "cell_type": "markdown",
   "metadata": {},
   "source": [
    "<span style='color:white;font-weight:bold;background-color:black;width:12px;padding: 2px;font-size:20px'>1.</span> Propriétés de $\\mathscr{C}$"
   ]
  },
  {
   "cell_type": "markdown",
   "metadata": {},
   "source": [
    "<span style='color:white;font-weight:bold;background-color:#F0573B;padding: 2px;font-size:20px'>a.</span> Justifier qu'un point $M\\left(x\\,;\\,y\\right)$ appartient à $\\mathscr{C}$ si et seulement si $y=\\sqrt{1-x^{2}}$."
   ]
  },
  {
   "cell_type": "markdown",
   "metadata": {},
   "source": [
    "<span style='color:white;font-weight:bold;background-color:#F0573B;padding: 2px;font-size:20px'>b.</span> En déduire que $\\mathscr{C}$ est la courbe d'une fonction $f$, définie sur $\\left[0\\,;\\,1\\right]$, dont on précisera l'expression."
   ]
  },
  {
   "cell_type": "markdown",
   "metadata": {},
   "source": [
    "<span style='color:white;font-weight:bold;background-color:#F0573B;padding: 2px;font-size:20px'>c.</span> Quelle est la longueur de $\\mathscr{C}$ ?"
   ]
  },
  {
   "cell_type": "markdown",
   "metadata": {},
   "source": [
    "<span style='color:white;font-weight:bold;background-color:black;width:12px;padding: 2px;font-size:20px'>2.</span> Distance entre 2 points de $\\mathscr{C}$"
   ]
  },
  {
   "cell_type": "markdown",
   "metadata": {},
   "source": [
    "<span style='color:white;font-weight:bold;background-color:#F0573B;padding: 2px;font-size:20px'>a.</span> A partir du module <b>math</b>, charger la fonction <code>sqrt</code> et la constante <code>pi</code> :"
   ]
  },
  {
   "cell_type": "code",
   "execution_count": 1,
   "metadata": {},
   "outputs": [],
   "source": [
    "from math import sqrt, pi"
   ]
  },
  {
   "cell_type": "markdown",
   "metadata": {},
   "source": [
    "<span style='color:white;font-weight:bold;background-color:#F0573B;padding: 2px;font-size:20px'>b.</span> Ecrire la fonction nommée <code>f</code> de paramètre <code>x</code> <i>(un nombre réel compris dans $\\left[0\\,;\\,1\\right]$)</i> et qui renvoie $f($<code>x</code>$)$."
   ]
  },
  {
   "cell_type": "code",
   "execution_count": 2,
   "metadata": {},
   "outputs": [],
   "source": [
    "\n"
   ]
  },
  {
   "cell_type": "markdown",
   "metadata": {},
   "source": [
    "<span style='color:white;font-weight:bold;background-color:#F0573B;padding: 2px;font-size:20px'>c.</span> Prenons deux points $A$ et $B$ appartenant à $\\mathscr{C}$. On note : \n",
    "<ul>\n",
    "    <li><code>a</code> l'abscisse du point $A$</li> \n",
    "    <li><code>b</code> l'abscisse du point $B$</li>\n",
    "    <li><code>d</code> la longueur du segment $\\left[AB\\right]$.</li>\n",
    "</ul>\n",
    "<br>\n",
    "Compléter la fonction nommée dist de paramètres <code>a</code> et <code>b</code> (les abscisses des points, comprises dans $\\left[0\\,;\\,1\\right]$ et qui renvoie le nombre <code>d</code>."
   ]
  },
  {
   "cell_type": "code",
   "execution_count": 3,
   "metadata": {},
   "outputs": [],
   "source": [
    "def dist(a,b):\n",
    "    return "
   ]
  },
  {
   "cell_type": "markdown",
   "metadata": {},
   "source": [
    "<span style='color:white;font-weight:bold;background-color:black;width:12px;padding: 2px;font-size:20px'>3.</span> Longueur approchée de $\\mathscr{C}$"
   ]
  },
  {
   "cell_type": "markdown",
   "metadata": {},
   "source": [
    "<span style='color:white;font-weight:bold;background-color:#F0573B;padding: 2px;font-size:20px'>a.</span> Exécuter l'algorithme ci-dessous et compléter le tableau suivant <b>au centième près<b> : \n",
    "    <table style=\"border-width:2px;border-style:solid;border-color:#F0573B;\" width=\"400\">\n",
    "   <tr style=\"border:2px solid #F0573B;\">\n",
    "       <td style=\"border:2px solid #F0573B;text-align:center;\"><code>s</code></td>\n",
    "       <td style=\"border:2px solid #F0573B;text-align:center;\"><code>a</code></td>\n",
    "   </tr>\n",
    "    <tr style=\"border:2px solid #F0573B;\">\n",
    "        <td style=\"border:2px solid #F0573B;text-align:left;\"><span style=\"color:white\">f</span></td>\n",
    "       <td style=\"border:2px solid #F0573B;text-align:center;\"></td>\n",
    "   </tr>\n",
    "    <tr style=\"border:2px solid #F0573B;\">\n",
    "       <td style=\"border:2px solid #F0573B;text-align:left;\"> <span style=\"color:white\">f</span></td>\n",
    "       <td style=\"border:2px solid #F0573B;text-align:center;\"></td>\n",
    "   </tr>\n",
    "    <tr style=\"border:2px solid #F0573B;\">\n",
    "       <td style=\"border:2px solid #F0573B;text-align:left;\"> <span style=\"color:white\">f</span></td>\n",
    "       <td style=\"border:2px solid #F0573B;text-align:center;\"></td>\n",
    "   </tr>\n",
    "    <tr style=\"border:2px solid #F0573B;\">\n",
    "       <td style=\"border:2px solid #F0573B;text-align:left;\"> <span style=\"color:white\">f</span></td>\n",
    "       <td style=\"border:2px solid #F0573B;text-align:center;\"></td>\n",
    "   </tr>\n",
    "</table>"
   ]
  },
  {
   "cell_type": "code",
   "execution_count": 4,
   "metadata": {},
   "outputs": [
    {
     "name": "stdout",
     "output_type": "stream",
     "text": [
      "0.2520085849654562 0.25\n",
      "0.5220993417031827 0.5\n",
      "0.8451412527008735 0.75\n",
      "1.552248033887421 1.0\n"
     ]
    }
   ],
   "source": [
    "s = 0 \n",
    "a = 0\n",
    "pas = 1/4\n",
    "for k in range(4):\n",
    "    s = s + dist(a, a + pas)\n",
    "    a = a + pas\n",
    "    print(s,a)"
   ]
  },
  {
   "cell_type": "markdown",
   "metadata": {},
   "source": [
    "<span style='color:white;font-weight:bold;background-color:#F0573B;padding: 2px;font-size:20px'>b.</span> La variable <code>s</code> représente la longueur d'une ligne polygonale composée de 4 segments. La dessiner.\n",
    "<img src='quart_de_cercle.PNG' width='300px'>"
   ]
  },
  {
   "cell_type": "markdown",
   "metadata": {},
   "source": [
    "<span style='color:white;font-weight:bold;background-color:#F0573B;padding: 2px;font-size:20px'>c.</span> On généralise l'algorithme précédent.\n",
    "<br> On considère la fonction nommée <code>longueur</code> de paramètre <code>n</code> <i>(un nombre entier non nul)</i>.\n",
    "\n",
    "Cette fonction renvoie la longueur de la ligne polygonale composée de $N=2^{n}$ segments tels que chacune de leurs extrémités appartient à $\\mathscr{C}$. \n",
    "\n",
    "Compléter les instructions en pointillé."
   ]
  },
  {
   "cell_type": "code",
   "execution_count": 5,
   "metadata": {},
   "outputs": [],
   "source": [
    "def longueur(n):\n",
    "    s = 0\n",
    "    a = 0\n",
    "    N = 2**n\n",
    "    pas = 1/N\n",
    "    for k in range(N):\n",
    "        ..................................\n",
    "        ..................................\n",
    "    return s"
   ]
  },
  {
   "cell_type": "markdown",
   "metadata": {},
   "source": [
    "<span style='color:white;font-weight:bold;background-color:#F0573B;padding: 2px;font-size:20px'>d.</span> On souhaite remplir le tableau ci-dessous.\n",
    "<br>Utiliser pour cela la fonction <code>longueur</code> pour obtenir une approximation de la longueur de $\\mathscr{C}$.\n",
    "\n",
    "<table style=\"border-width:2px;border-style:solid;border-color:#F0573B;\" width=\"420\">\n",
    "   <tr style=\"border:2px solid #F0573B;\">\n",
    "       <td style=\"border:2px solid #F0573B;text-align:center;\">Nombre de segments construits sur $\\mathscr{C}$</td>\n",
    "       <td style=\"border:2px solid #F0573B;text-align:center;\">Instruction <b>Python</b></td>\n",
    "       <td style=\"border:2px solid #F0573B;text-align:center;\">Approximation obtenue pour la longueur de $\\mathscr{C}$</td>\n",
    "   </tr>\n",
    "    <tr style=\"border:2px solid #F0573B;\">\n",
    "        <td style=\"border:2px solid #F0573B;text-align:center;\">4</td>\n",
    "       <td style=\"border:2px solid #F0573B;text-align:center;\"></td>\n",
    "        <td style=\"border:2px solid #F0573B;text-align:center;\"></td>\n",
    "   </tr>\n",
    "    <tr style=\"border:2px solid #F0573B;\">\n",
    "        <td style=\"border:2px solid #F0573B;text-align:center;\">16</td>\n",
    "       <td style=\"border:2px solid #F0573B;text-align:center;\"></td>\n",
    "        <td style=\"border:2px solid #F0573B;text-align:center;\"></td>\n",
    "   </tr>\n",
    "</table>"
   ]
  },
  {
   "cell_type": "code",
   "execution_count": 6,
   "metadata": {},
   "outputs": [
    {
     "data": {
      "text/plain": [
       "1.552248033887421"
      ]
     },
     "execution_count": 6,
     "metadata": {},
     "output_type": "execute_result"
    }
   ],
   "source": [
    "longueur(.....)"
   ]
  },
  {
   "cell_type": "code",
   "execution_count": 7,
   "metadata": {},
   "outputs": [
    {
     "data": {
      "text/plain": [
       "1.568494838991179"
      ]
     },
     "execution_count": 7,
     "metadata": {},
     "output_type": "execute_result"
    }
   ],
   "source": []
  },
  {
   "cell_type": "markdown",
   "metadata": {},
   "source": [
    "<span style='color:white;font-weight:bold;background-color:black;width:12px;padding: 2px;font-size:20px'>4.</span> Premières décimales de $\\pi$"
   ]
  },
  {
   "cell_type": "markdown",
   "metadata": {},
   "source": [
    "<span style='color:white;font-weight:bold;background-color:#F0573B;padding: 2px;font-size:20px'>a.</span> Justifier que $2\\times$<code>longueur(n)</code> est une valeur approchée de $\\pi$. "
   ]
  },
  {
   "cell_type": "markdown",
   "metadata": {},
   "source": [
    "<span style='color:white;font-weight:bold;background-color:#F0573B;padding: 2px;font-size:20px'>b.</span> Compléter la fonction nommée <code>approximation</code> de paramètre <code>n</code> <i>(un nombre entier non nul)</i>.\n",
    "<br>Elle affiche : \n",
    "<ul>\n",
    "    <li>les premières décimales de $\\pi$</li>\n",
    "    <li>les premières décimales de <code>longueur(n)</code></li>\n",
    "</ul>"
   ]
  },
  {
   "cell_type": "code",
   "execution_count": 8,
   "metadata": {},
   "outputs": [],
   "source": [
    "def approximation(n):\n",
    "    print('           pi = ',.....................)\n",
    "    print('approximation = ',.....................)"
   ]
  },
  {
   "cell_type": "markdown",
   "metadata": {},
   "source": [
    "<span style='color:white;font-weight:bold;background-color:#F0573B;padding: 2px;font-size:20px'>c.</span> Exécuter l'instruction suivante qui permet de charger la fonction <code>interact</code> et <code>IntSlider</code> pour créer un curseur pour <code>n</code>.\n",
    "</table>"
   ]
  },
  {
   "cell_type": "code",
   "execution_count": 9,
   "metadata": {},
   "outputs": [],
   "source": [
    "from ipywidgets import interact, IntSlider"
   ]
  },
  {
   "cell_type": "markdown",
   "metadata": {},
   "source": [
    "<b><u>Notation</u></b>\n",
    "<blockquote style=\"border-left: 10px solid black;background-color:#F0573B\">\n",
    "    <ul>\n",
    "        <li><code>longueur(n)</code> contient les premières décimales de $\\pi$ qui figurent après la virgule.</li>\n",
    "        <li>$x$ est ce nombre de premières décimales</li>\n",
    "    </ul>\n",
    "</blockquote>"
   ]
  },
  {
   "cell_type": "markdown",
   "metadata": {},
   "source": [
    "<span style='color:white;font-weight:bold;background-color:#F0573B;padding: 2px;font-size:20px'>d.</span> <code>longueur(n)</code> contient les premières décimales de $\\pi$ qui figurent après la virgule.\n",
    "<br>Exécuter le code suivant, puis compléter le tableau suivant en modifiant la valeur du curseur de <code>n</code> :"
   ]
  },
  {
   "cell_type": "code",
   "execution_count": 10,
   "metadata": {},
   "outputs": [
    {
     "data": {
      "application/vnd.jupyter.widget-view+json": {
       "model_id": "cf082e999a4349e1b372a5d4e98e020a",
       "version_major": 2,
       "version_minor": 0
      },
      "text/plain": [
       "interactive(children=(IntSlider(value=1, description='n', max=20, min=1), Output()), _dom_classes=('widget-int…"
      ]
     },
     "metadata": {},
     "output_type": "display_data"
    },
    {
     "data": {
      "text/plain": [
       "<function __main__.approximation(n)>"
      ]
     },
     "execution_count": 10,
     "metadata": {},
     "output_type": "execute_result"
    }
   ],
   "source": [
    "interact(approximation,n = IntSlider(1,1,30))"
   ]
  },
  {
   "cell_type": "markdown",
   "metadata": {
    "collapsed": true
   },
   "source": [
    "<table style=\"border-width:2px;border-style:solid;border-color:#F0573B;\">\n",
    "   <tr style=\"border:2px solid #F0573B;\">\n",
    "       <td style=\"border:2px solid #F0573B;text-align:center;\" width=\"300\">Nombre de premières décimales <br>de <code>longueur(n)</code> communes avec celles de $\\pi$</td>\n",
    "       <td style=\"border:2px solid #F0573B;text-align:center;\" width=\"50\"><code>n</code></td>\n",
    "   </tr>\n",
    "    <tr style=\"border:2px solid #F0573B;\">\n",
    "        <td style=\"border:2px solid #F0573B;text-align:center;\">$1$</td>\n",
    "       <td style=\"border:2px solid #F0573B;text-align:center;\"></td>\n",
    "   </tr>\n",
    "    <tr style=\"border:2px solid #F0573B;\">\n",
    "        <td style=\"border:2px solid #F0573B;text-align:center;\">$2$</td>\n",
    "       <td style=\"border:2px solid #F0573B;text-align:center;\"></td>\n",
    "   </tr>\n",
    "    <tr style=\"border:2px solid #F0573B;\">\n",
    "        <td style=\"border:2px solid #F0573B;text-align:center;\">$3$</td>\n",
    "       <td style=\"border:2px solid #F0573B;text-align:center;\"></td>\n",
    "   </tr>\n",
    "    <tr style=\"border:2px solid #F0573B;\">\n",
    "        <td style=\"border:2px solid #F0573B;text-align:center;\">$4$</td>\n",
    "       <td style=\"border:2px solid #F0573B;text-align:center;\"></td>\n",
    "   </tr>\n",
    "    <tr style=\"border:2px solid #F0573B;\">\n",
    "        <td style=\"border:2px solid #F0573B;text-align:center;\">$5$</td>\n",
    "       <td style=\"border:2px solid #F0573B;text-align:center;\"></td>\n",
    "   </tr>\n",
    "    <tr style=\"border:2px solid #F0573B;\">\n",
    "        <td style=\"border:2px solid #F0573B;text-align:center;\">$6$</td>\n",
    "       <td style=\"border:2px solid #F0573B;text-align:center;\"></td>\n",
    "   </tr>\n",
    "    <tr style=\"border:2px solid #F0573B;\">\n",
    "        <td style=\"border:2px solid #F0573B;text-align:center;\">$7$</td>\n",
    "       <td style=\"border:2px solid #F0573B;text-align:center;\"></td>\n",
    "   </tr>\n",
    "    <tr style=\"border:2px solid #F0573B;\">\n",
    "        <td style=\"border:2px solid #F0573B;text-align:center;\">$8$</td>\n",
    "       <td style=\"border:2px solid #F0573B;text-align:center;\"></td>\n",
    "   </tr>\n",
    "    <tr style=\"border:2px solid #F0573B;\">\n",
    "        <td style=\"border:2px solid #F0573B;text-align:center;\">$9$</td>\n",
    "       <td style=\"border:2px solid #F0573B;text-align:center;\"></td>\n",
    "   </tr>\n",
    "</table>"
   ]
  },
  {
   "cell_type": "markdown",
   "metadata": {},
   "source": [
    "<span style='color:white;font-weight:bold;background-color:black;width:12px;padding: 2px;font-size:20px'>5.</span> Nombre de segments à construire"
   ]
  },
  {
   "cell_type": "markdown",
   "metadata": {},
   "source": [
    "<b><u>Notation</u></b>\n",
    "<blockquote style=\"border-left: 10px solid black;background-color:#F0573B\">\n",
    "    <ul>\n",
    "        <li><code>n</code> est fonction du nombre $x$ de premières décimales de <code>longueur(n)</code> avec celles de $pi$.</li>\n",
    "        <li>On note $f$ cette fonction, ainsi <code>n</code>=$f(x)$.</li>\n",
    "    </ul>\n",
    "</blockquote>"
   ]
  },
  {
   "cell_type": "markdown",
   "metadata": {},
   "source": [
    "<span style='color:white;font-weight:bold;background-color:#F0573B;padding: 2px;font-size:20px'>a.</span> En utilisant la table de valeurs de $f$ précédente, justifier que $f$ n'est pas affine."
   ]
  },
  {
   "cell_type": "markdown",
   "metadata": {},
   "source": [
    "<img src='droite.PNG' width='400'>"
   ]
  },
  {
   "cell_type": "markdown",
   "metadata": {},
   "source": [
    "<span style='color:white;font-weight:bold;background-color:#F0573B;padding: 2px;font-size:20px'>b.</span> En utilisant le modèle linéaire associé à la droite d'équation  $$y=2,18x+0,19$$\n",
    "Quelle serait la valeur de <code>n</code> pour avoir les 15 premières décimales de $\\pi$ ?\n",
    "<br> Donner le nombre de segments à construire dans ce cas."
   ]
  },
  {
   "cell_type": "markdown",
   "metadata": {},
   "source": [
    "<span style='color:white;font-weight:bold;background-color:#F0573B;padding: 2px;font-size:20px'>c.</span> Quel serait le nombre de décimales $x$ avec $2^{20}$ segments construits ?"
   ]
  },
  {
   "cell_type": "code",
   "execution_count": null,
   "metadata": {},
   "outputs": [],
   "source": []
  }
 ],
 "metadata": {
  "kernelspec": {
   "display_name": "Python 3",
   "language": "python",
   "name": "python3"
  },
  "language_info": {
   "codemirror_mode": {
    "name": "ipython",
    "version": 3
   },
   "file_extension": ".py",
   "mimetype": "text/x-python",
   "name": "python",
   "nbconvert_exporter": "python",
   "pygments_lexer": "ipython3",
   "version": "3.7.1"
  }
 },
 "nbformat": 4,
 "nbformat_minor": 2
}
