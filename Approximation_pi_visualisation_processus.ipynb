{
 "cells": [
  {
   "cell_type": "markdown",
   "metadata": {},
   "source": [
    "<div id=\"titre\">\n",
    "<h1 style=\"color:white;\n",
    "  font-family:Comic Sans MS;\n",
    "  font-size:3em;\n",
    "  background-color:#F0573B;\n",
    "  text-align:center;\n",
    "  padding:10px\">Approximation de $\\pi$ </h1>\n",
    "<div style=\"font-family:Comic Sans MS; background-color:black;box-shadow: 8px 8px 0px #aaa; text-align:center; width: 50%; color:white\">Visualisation du processus</div>\n",
    "</div>"
   ]
  },
  {
   "cell_type": "code",
   "execution_count": 1,
   "metadata": {},
   "outputs": [
    {
     "data": {
      "application/vnd.jupyter.widget-view+json": {
       "model_id": "7ab085f0dc414cee881f0d09d1a35997",
       "version_major": 2,
       "version_minor": 0
      },
      "text/plain": [
       "interactive(children=(IntSlider(value=0, description='Numéro $k$ du segment', max=20, style=SliderStyle(descri…"
      ]
     },
     "metadata": {},
     "output_type": "display_data"
    },
    {
     "data": {
      "text/html": [
       "<script>\n",
       "code_show=true; \n",
       "function code_toggle() {\n",
       "    if (code_show){\n",
       "        $('div.cell.code_cell.rendered.selected div.input').show();\n",
       "    } else {\n",
       "        $('div.cell.code_cell.rendered.selected div.input').hide();\n",
       "    }\n",
       "    code_show = !code_show\n",
       "}  \n",
       "$( document ).ready(code_toggle);\n",
       "</script>\n",
       "<form action=\"javascript:code_toggle()\"><input type=\"submit\" value=\"code ? Oui / Non\"></form>"
      ],
      "text/plain": [
       "<IPython.core.display.HTML object>"
      ]
     },
     "execution_count": 1,
     "metadata": {},
     "output_type": "execute_result"
    }
   ],
   "source": [
    "import pylab as pl\n",
    "from math import sqrt, pi\n",
    "from ipywidgets import interact,IntSlider\n",
    "\n",
    "from IPython.display import HTML\n",
    "\n",
    "def f(x):\n",
    "    return sqrt(1-x**2)\n",
    "\n",
    "def cercle(ax):\n",
    "    X = [k/1000 for k in range(1001)]\n",
    "    Y = [f(x) for x in X]\n",
    "    ax.plot(X,Y,color='red')\n",
    "    ax.axhline(y=0,color='black')\n",
    "    ax.axvline(x=0,color='black')\n",
    "    \n",
    "props = dict(boxstyle='round', facecolor='teal', alpha=0.5)\n",
    "csfont = {'fontname':'Comic Sans MS'}\n",
    "\n",
    "@interact(k=IntSlider(0,0,20,description=\"Numéro $k$ du segment\",style={'description_width': 'initial'}), \n",
    "          n=IntSlider(5,1,20,description=\"Nombre $n$ de segments\",style={'description_width': 'initial'}))\n",
    "def plot(k=0, n=5):\n",
    "    fig, ax = pl.subplots(figsize=(6, 6))\n",
    "    cercle(ax)\n",
    "    X = [i/n for i in range(n+1)]\n",
    "    Y = [f(x) for x in X]\n",
    "    if k == 0:\n",
    "        cercle(ax)\n",
    "        ax.text(0.4,0.5,\"Modifier dans l'ordre : \\n le curseur $n$ : nombre de segments \\n le curseur $k$ : numéro de l'étape\",\n",
    "               bbox=props,fontsize=14,\n",
    "               horizontalalignment='center')\n",
    "        \n",
    "    elif 0< k <= n:\n",
    "        ax.plot(X[:k],Y[:k],'o-',color='black')\n",
    "        ax.plot(X[k-1:k+1],Y[k-1:k+1],'o-',color='orange',lw=4)\n",
    "        \n",
    "        ax.text(X[k-1],Y[k-1]+0.01,'$A$')\n",
    "        ax.text(X[k],Y[k]+0.01,'$B$')\n",
    "        ax.plot([X[k-1],X[k-1]],[0,Y[k-1]],'--',color='gray')\n",
    "        ax.plot([X[k],X[k]],[0,Y[k]],'--',color='gray')\n",
    "    else:\n",
    "        ax.plot(X,Y,'o-',color='black')\n",
    "        \n",
    "    ax.grid()\n",
    "\n",
    "HTML('''<script>\n",
    "code_show=true; \n",
    "function code_toggle() {\n",
    "    if (code_show){\n",
    "        $('div.cell.code_cell.rendered.selected div.input').show();\n",
    "    } else {\n",
    "        $('div.cell.code_cell.rendered.selected div.input').hide();\n",
    "    }\n",
    "    code_show = !code_show\n",
    "}  \n",
    "$( document ).ready(code_toggle);\n",
    "</script>\n",
    "<form action=\"javascript:code_toggle()\"><input type=\"submit\" value=\"code ? Oui / Non\"></form>''')"
   ]
  },
  {
   "cell_type": "code",
   "execution_count": null,
   "metadata": {},
   "outputs": [],
   "source": []
  }
 ],
 "metadata": {
  "celltoolbar": "Format de la Cellule Texte Brut",
  "kernelspec": {
   "display_name": "Python 3",
   "language": "python",
   "name": "python3"
  },
  "language_info": {
   "codemirror_mode": {
    "name": "ipython",
    "version": 3
   },
   "file_extension": ".py",
   "mimetype": "text/x-python",
   "name": "python",
   "nbconvert_exporter": "python",
   "pygments_lexer": "ipython3",
   "version": "3.7.1"
  }
 },
 "nbformat": 4,
 "nbformat_minor": 2
}
