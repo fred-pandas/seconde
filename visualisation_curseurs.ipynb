{
 "cells": [
  {
   "cell_type": "markdown",
   "metadata": {},
   "source": [
    "<div id=\"titre\">\n",
    "<h1 style=\"color:white;\n",
    "  font-family:Comic Sans MS;\n",
    "  font-size:3em;\n",
    "  background-color:#F0573B;\n",
    "  text-align:center;\n",
    "  padding:10px\">Approximation de $\\pi$ </h1>\n",
    "<div style=\"font-family:Comic Sans MS; background-color:black;box-shadow: 8px 8px 0px #aaa; text-align:center; width: 50%; color:white\">Visualisation du processus</div>\n",
    "</div>"
   ]
  },
  {
   "cell_type": "markdown",
   "metadata": {},
   "source": [
    "<b><u>Consigne</u></b>\n",
    "<blockquote style=\"border-left: 10px solid black;background-color:#F0573B\">\n",
    "    <ul>\n",
    "        <li> Depuis la barre de navigation du haut, cliquer sur :\n",
    "            <ul>\n",
    "                <li><span style='color:blue'><b>Kernel</b></span></li>\n",
    "                <li><span style='color:blue'><b>Restart & Run All</b></span></li>\n",
    "            </ul>\n",
    "        </li>\n",
    "        <li> Modifier ensuite les curseurs <code>n</code> et <code>k</code>.</li>\n",
    "    </ul>\n",
    "</blockquote>"
   ]
  },
  {
   "cell_type": "code",
   "execution_count": 1,
   "metadata": {},
   "outputs": [
    {
     "data": {
      "text/html": [
       "<script>$(\"div.input\").hide()</script>"
      ],
      "text/plain": [
       "<IPython.core.display.HTML object>"
      ]
     },
     "metadata": {},
     "output_type": "display_data"
    },
    {
     "data": {
      "application/vnd.jupyter.widget-view+json": {
       "model_id": "90ea6d7b309c411bb96c62f7b1348704",
       "version_major": 2,
       "version_minor": 0
      },
      "text/plain": [
       "ToggleButton(value=False, description='Show code')"
      ]
     },
     "metadata": {},
     "output_type": "display_data"
    }
   ],
   "source": [
    "import ipywidgets as widgets\n",
    "from IPython.display import display, HTML\n",
    "\n",
    "javascript_functions = {False: \"hide()\", True: \"show()\"}\n",
    "button_descriptions  = {False: \"Show code\", True: \"Hide code\"}\n",
    "\n",
    "\n",
    "def toggle_code(state):\n",
    "\n",
    "    \"\"\"\n",
    "    Toggles the JavaScript show()/hide() function on the div.input element.\n",
    "    \"\"\"\n",
    "\n",
    "    output_string = \"<script>$(\\\"div.input\\\").{}</script>\"\n",
    "    output_args   = (javascript_functions[state],)\n",
    "    output        = output_string.format(*output_args)\n",
    "\n",
    "    display(HTML(output))\n",
    "\n",
    "\n",
    "def button_action(value):\n",
    "\n",
    "    \"\"\"\n",
    "    Calls the toggle_code function and updates the button description.\n",
    "    \"\"\"\n",
    "\n",
    "    state = value.new\n",
    "\n",
    "    toggle_code(state)\n",
    "\n",
    "    value.owner.description = button_descriptions[state]\n",
    "\n",
    "\n",
    "state = False\n",
    "toggle_code(state)\n",
    "\n",
    "button = widgets.ToggleButton(state, description = button_descriptions[state])\n",
    "button.observe(button_action, \"value\")\n",
    "\n",
    "display(button)"
   ]
  },
  {
   "cell_type": "code",
   "execution_count": 2,
   "metadata": {},
   "outputs": [],
   "source": [
    "import pylab as pl\n",
    "from math import sqrt, pi\n",
    "from ipywidgets import interact,IntSlider"
   ]
  },
  {
   "cell_type": "code",
   "execution_count": 3,
   "metadata": {},
   "outputs": [],
   "source": [
    "def f(x):\n",
    "    return sqrt(1-x**2)"
   ]
  },
  {
   "cell_type": "code",
   "execution_count": 4,
   "metadata": {},
   "outputs": [],
   "source": [
    "def cercle(ax):\n",
    "    X = [k/1000 for k in range(1001)]\n",
    "    Y = [f(x) for x in X]\n",
    "    ax.plot(X,Y,color='red')\n",
    "    ax.axhline(y=0,color='black')\n",
    "    ax.axvline(x=0,color='black')"
   ]
  },
  {
   "cell_type": "code",
   "execution_count": 5,
   "metadata": {},
   "outputs": [],
   "source": [
    "props = dict(boxstyle='round', facecolor='teal', alpha=0.5)\n",
    "csfont = {'fontname':'Comic Sans MS'}"
   ]
  },
  {
   "cell_type": "code",
   "execution_count": 6,
   "metadata": {
    "tags": [
     "{",
     "\"tags\"",
     ":",
     "[",
     "\"hide_input\"",
     "]",
     "}"
    ]
   },
   "outputs": [
    {
     "data": {
      "application/vnd.jupyter.widget-view+json": {
       "model_id": "49111a6e959e481195a7ee0074e30634",
       "version_major": 2,
       "version_minor": 0
      },
      "text/plain": [
       "interactive(children=(IntSlider(value=0, description='Numéro $k$ du segment', max=20, style=SliderStyle(descri…"
      ]
     },
     "metadata": {},
     "output_type": "display_data"
    }
   ],
   "source": [
    "@interact(k=IntSlider(0,0,20,description=\"Numéro $k$ du segment\",style={'description_width': 'initial'}), \n",
    "          n=IntSlider(5,1,20,description=\"Nombre $n$ de segments\",style={'description_width': 'initial'}))\n",
    "def plot(k=0, n=5):\n",
    "    fig, ax = pl.subplots(figsize=(6, 6))\n",
    "    cercle(ax)\n",
    "    X = [i/n for i in range(n+1)]\n",
    "    Y = [f(x) for x in X]\n",
    "    if k == 0:\n",
    "        ax.text(0.4,0.5,\"Modifier dans l'ordre : \\n le curseur $n$ : nombre de segments \\n le curseur $k$ : numéro de l'étape\",\n",
    "               bbox=props,fontsize=14,\n",
    "               horizontalalignment='center',\n",
    "               **csfont)\n",
    "    elif 0< k <= n:\n",
    "        ax.plot(X[:k],Y[:k],'o-',color='black')\n",
    "        ax.plot(X[k-1:k+1],Y[k-1:k+1],'o-',color='orange',lw=4)\n",
    "        \n",
    "        ax.text(X[k-1],Y[k-1]+0.01,'$A$')\n",
    "        ax.text(X[k],Y[k]+0.01,'$B$')\n",
    "        ax.plot([X[k-1],X[k-1]],[0,Y[k-1]],'--',color='gray')\n",
    "        ax.plot([X[k],X[k]],[0,Y[k]],'--',color='gray')\n",
    "    else:\n",
    "        ax.plot(X,Y,'o-',color='black')\n",
    "        \n",
    "    ax.grid()"
   ]
  },
  {
   "cell_type": "code",
   "execution_count": null,
   "metadata": {},
   "outputs": [],
   "source": []
  }
 ],
 "metadata": {
  "celltoolbar": "Format de la Cellule Texte Brut",
  "kernelspec": {
   "display_name": "Python 3",
   "language": "python",
   "name": "python3"
  },
  "language_info": {
   "codemirror_mode": {
    "name": "ipython",
    "version": 3
   },
   "file_extension": ".py",
   "mimetype": "text/x-python",
   "name": "python",
   "nbconvert_exporter": "python",
   "pygments_lexer": "ipython3",
   "version": "3.7.1"
  }
 },
 "nbformat": 4,
 "nbformat_minor": 2
}
