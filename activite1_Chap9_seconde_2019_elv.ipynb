{
 "cells": [
  {
   "cell_type": "markdown",
   "metadata": {},
   "source": [
    "<div id=\"titre\">\n",
    "<h1 style=\"color:white;\n",
    "  font-family:Comic Sans MS;\n",
    "  font-size:3em;\n",
    "  background-color:#F0573B;\n",
    "  text-align:center;\n",
    "  padding:10px\">Simulation du hasard <br> Fonction random</h1>\n",
    "<div style=\"font-family:Comic Sans MS; background-color:black;box-shadow: 8px 8px 0px #aaa; text-align:center; width: 50%; color:white\">Probabilité : activité 1 - chapitre 9</div>\n",
    "</div>"
   ]
  },
  {
   "cell_type": "markdown",
   "metadata": {},
   "source": [
    "<b><u>Module random</u></b>\n",
    "<blockquote style=\"border-left: 10px solid black;background-color:pink\">\n",
    "Le module <code style='background-color:lightgreen'>random</code> contient des fonctions permettant de simuler le hasard.\n",
    "<br>\n",
    "<table style=\"border-width:2px;border-style:solid;border-color:#F0573B\" width=\"420\">\n",
    "   <tr style=\"border:2px solid #F0573B;\">\n",
    "       <td style=\"border:2px solid #F0573B;text-align:center;\"bgcolor='yellow' >Fonction <b>Python</b></td>\n",
    "       <td style=\"border:2px solid #F0573B;text-align:center;\"bgcolor='yellow'>Rôle</td>\n",
    "   </tr>\n",
    "    <tr style=\"border:2px solid #F0573B;\">\n",
    "        <td style=\"border:2px solid #F0573B;text-align:center;\"bgcolor='white'><code>random()</code></td>\n",
    "       <td style=\"border:2px solid #F0573B;text-align:center;\"bgcolor='white'>donne un flottant au hasard dans l'intervalle $[0\\,,\\,1[$</td>\n",
    "   </tr>\n",
    "    <tr style=\"border:2px solid #F0573B;\">\n",
    "        <td style=\"border:2px solid #F0573B;text-align:center;\"bgcolor='white'><code>randint(a,b)</code></td>\n",
    "       <td style=\"border:2px solid #F0573B;text-align:center;\"bgcolor='white'> donne un entier choisit au hasard entre a et b compris</td>\n",
    "   </tr>\n",
    "</table>\n",
    "</blockquote>"
   ]
  },
  {
   "cell_type": "markdown",
   "metadata": {},
   "source": [
    "<span style='color:white;font-weight:bold;background-color:black;width:12px;padding: 2px;font-size:20px'>1.</span> Fonction <code>random</code>"
   ]
  },
  {
   "cell_type": "markdown",
   "metadata": {},
   "source": [
    "<span style='color:white;font-weight:bold;background-color:#F0573B;padding: 2px;font-size:20px'>a.</span> Excécuter la cellule suivante :"
   ]
  },
  {
   "cell_type": "code",
   "execution_count": 1,
   "metadata": {},
   "outputs": [],
   "source": [
    "from random import random\n",
    "\n",
    "from ipywidgets import interact"
   ]
  },
  {
   "cell_type": "markdown",
   "metadata": {},
   "source": [
    "<span style='color:white;font-weight:bold;background-color:#F0573B;padding: 2px;font-size:20px'>b.</span> Exécuter le code suivant et préciser ce que représente la variable <code>L</code>."
   ]
  },
  {
   "cell_type": "code",
   "execution_count": 2,
   "metadata": {
    "hide_input": true
   },
   "outputs": [
    {
     "data": {
      "text/plain": [
       "[0.6885235180228941,\n",
       " 0.46507263718374114,\n",
       " 0.9175713557334869,\n",
       " 0.331459942859902,\n",
       " 0.03711070426771523,\n",
       " 0.6052098970947716,\n",
       " 0.8797364923432583,\n",
       " 0.31658752561702475,\n",
       " 0.2086222597270868,\n",
       " 0.9328418857826122]"
      ]
     },
     "execution_count": 2,
     "metadata": {},
     "output_type": "execute_result"
    }
   ],
   "source": [
    "L = [random() for k in range(10)]\n",
    "L"
   ]
  },
  {
   "cell_type": "markdown",
   "metadata": {},
   "source": [
    "<span style='color:white;font-weight:bold;background-color:#F0573B;padding: 2px;font-size:20px'>c.</span> Excuter le code suivant puis modifier la valeur du curseur <code>n</code>.\n",
    "<br>Donner les calculs permettant d'obtenir les 4 premiers éléments la troisième colonne de la table suivante. "
   ]
  },
  {
   "cell_type": "code",
   "execution_count": null,
   "metadata": {},
   "outputs": [],
   "source": [
    "from IPython.display import display, HTML\n",
    "\n",
    "@interact(n = (0,10,1), a = (0,1,0.1), b = (0,1,0.1))\n",
    "def table(n=0,a=0.2,b=0.6):\n",
    "    t ='{0:^20} | {1:^20} | {2:<25} |  Calcul ? '.format('random()',\n",
    "                                            str(a)+' <= random <= '+str(b),\n",
    "                                            'Fréquences cummulées de 1')+'\\n'\n",
    "    t = t+'--'*45\n",
    "    t = t +'\\n'\n",
    "    n1 = 0\n",
    "    ntirages = 0\n",
    "    for k in range(n):\n",
    "        if a <= L[k] <= b:\n",
    "            test = 1\n",
    "            n1 = n1 + 1\n",
    "        else:\n",
    "            test = 0\n",
    "        ntirages = ntirages + 1 \n",
    "        t = t + '{0:<20} | {1:^20} | {2:<25} | ..................'.format(L[k],test,n1/ntirages)+'\\n'\n",
    "    print(t)\n",
    "\n",
    "HTML('''<script>\n",
    "code_show=true; \n",
    "function code_toggle() {\n",
    "    if (code_show){\n",
    "        $('div.cell.code_cell.rendered.selected div.input').show();\n",
    "    } else {\n",
    "        $('div.cell.code_cell.rendered.selected div.input').hide();\n",
    "    }\n",
    "    code_show = !code_show\n",
    "}  \n",
    "$( document ).ready(code_toggle);\n",
    "</script>\n",
    "<form action=\"javascript:code_toggle()\"><input type=\"submit\" value=\"code ? Oui / Non\"></form>''')"
   ]
  },
  {
   "cell_type": "markdown",
   "metadata": {},
   "source": [
    "<span style='color:white;font-weight:bold;background-color:#F0573B;padding: 2px;font-size:20px'>d.</span> On considère la fonction suivante de paramètres :\n",
    "<ul>\n",
    "    <li> <code>L</code> une liste de nombres réels choisis aléatoirement dans $[0\\,,\\,1[$</li>\n",
    "    <li> <code>a</code> et <code>b</code> deux nombres réels tels que $0\\leqslant a\\leqslant b\\leqslant 1$</li>\n",
    "</ul>\n",
    "Compléter le pointillés pour renvoyer en sortie, la liste des fréquences cumulées de nombres compris entre <code>a</code> et <code>b</code>."
   ]
  },
  {
   "cell_type": "code",
   "execution_count": null,
   "metadata": {},
   "outputs": [],
   "source": [
    "def freq_cum(a,b,liste):\n",
    "    c = 0\n",
    "    n = 0\n",
    "    F = []\n",
    "    for x in liste:\n",
    "        n = n + 1\n",
    "        if a <= ..... <= b:\n",
    "            c = c + 1\n",
    "        F.append(...........)\n",
    "    return F"
   ]
  },
  {
   "cell_type": "markdown",
   "metadata": {},
   "source": [
    "<span style='color:white;font-weight:bold;background-color:#F0573B;padding: 2px;font-size:20px'>e.</span> En utilisant cette fonction pour <code>liste</code> = <code>L</code>, obtenir la liste des fréquences cumulées de nombres compris dans $[0,2\\,;\\,0,6]$."
   ]
  },
  {
   "cell_type": "code",
   "execution_count": null,
   "metadata": {},
   "outputs": [],
   "source": []
  },
  {
   "cell_type": "markdown",
   "metadata": {},
   "source": [
    "<span style='color:white;font-weight:bold;background-color:black;width:12px;padding: 2px;font-size:20px'>2.</span> Probabilité que $a\\leqslant \\texttt{random()} \\leqslant b$"
   ]
  },
  {
   "cell_type": "markdown",
   "metadata": {},
   "source": [
    "<span style='color:white;font-weight:bold;background-color:#F0573B;padding: 2px;font-size:20px'>a.</span> Exécuter le code suivant."
   ]
  },
  {
   "cell_type": "code",
   "execution_count": null,
   "metadata": {},
   "outputs": [],
   "source": [
    "import pylab as pl\n",
    "pl.style.use('seaborn')"
   ]
  },
  {
   "cell_type": "markdown",
   "metadata": {},
   "source": [
    "<span style='color:white;font-weight:bold;background-color:#F0573B;padding: 2px;font-size:20px'>b.</span> Exécuter le code suivant puis répondre aux questions suivantes : \n",
    "<br> Combien de tirages de aléatoires ont été effectués ?"
   ]
  },
  {
   "cell_type": "code",
   "execution_count": null,
   "metadata": {},
   "outputs": [],
   "source": [
    "L = [random() for k in range(2000)]\n",
    "X = range(1,2001)\n",
    "F = freq_cum(0.2,0.6,L)\n",
    "\n",
    "fig, (ax1, ax2) = pl.subplots(1, 2,figsize=(20, 6))\n",
    "ax1.set_xlabel('Numéro du tirage')\n",
    "ax1.set_ylabel('Valeur de random')\n",
    "ax1.plot(X,L,'o')   \n",
    "\n",
    "ax2.plot(X,F)\n",
    "ax2.set_xlabel('Numéro du tirage')\n",
    "ax2.set_ylabel('Valeur de random')"
   ]
  },
  {
   "cell_type": "markdown",
   "metadata": {},
   "source": [
    "<span style='color:white;font-weight:bold;background-color:#F0573B;padding: 2px;font-size:20px'>c.</span> Compléter les pointillés de l'encadré suivant"
   ]
  },
  {
   "cell_type": "markdown",
   "metadata": {},
   "source": [
    "<b><u>Loi des grands nombres</u></b>\n",
    "<blockquote style=\"border-left: 10px solid black;background-color:#F0573B\">\n",
    "<ul>\n",
    "    <li> On effectue $n$ réalisations de <code>random()</code>.</li>\n",
    "    <li> La fréquence de $n$ réalisations de <code>random()</code> compris dans $[0,2\\;\\,0,6]$ approche la valeur ........... au fur et à mesure que $n$ ................................</li>\n",
    "    <li> La probabilité que <code>random()</code> soit compris dans $[0,2\\;\\,0,6]$ est égale à ....................</li>\n",
    "</ul> \n",
    "</blockquote>"
   ]
  },
  {
   "cell_type": "markdown",
   "metadata": {},
   "source": [
    "<span style='color:white;font-weight:bold;background-color:#F0573B;padding: 2px;font-size:20px'>d.</span> Exécuter le code suivant et donner la probabilité que <code>random()</code> appartienne à $[a\\;\\,b]$. "
   ]
  },
  {
   "cell_type": "code",
   "execution_count": null,
   "metadata": {},
   "outputs": [],
   "source": [
    "X = range(1,1001)\n",
    "L = [random() for k in range(1000)]\n",
    "\n",
    "@interact(n=(0,1000,50),a=(0,1,0.1),b=(0,1,0.1))\n",
    "def nuage(n=0,a=0.3,b=0.6,droite=False):\n",
    "    F = freq_cum(a,b,L)\n",
    "    \n",
    "    fig, (ax1, ax2) = pl.subplots(1, 2,figsize=(20, 6))\n",
    "    \n",
    "    ax1.axis([0,n+10,-0.05,1.05])\n",
    "    ax1.plot(X[:n],L[:n],'o')\n",
    "    \n",
    "    ax1.fill_between([0,n], [a,a], [b,b],alpha=0.4,color='red')\n",
    "    \n",
    "    ax1.set_xlabel('Numéro du tirage')\n",
    "    ax1.set_ylabel('Valeur de random')\n",
    "    \n",
    "\n",
    "    ax1.axhline(y = a, color='green')\n",
    "    ax1.text(0,a-0.05,'$y='+str(a)+'$',fontsize=14,color='green')\n",
    "    ax1.axhline(y = b, color='blue')\n",
    "    ax1.text(0,b+0.05,'$y='+str(b)+'$',fontsize=14,color='blue')\n",
    "    \n",
    "    \n",
    "    ax2.axis([0,n+10,-0.05,1.05])\n",
    "    ax2.plot(X[:n],F[:n],'-')\n",
    "    ax2.set_xlabel('Numéro du tirage')\n",
    "    ax2.set_ylabel('Valeur de random')\n",
    "    \n",
    "    if droite:\n",
    "        d = round(b-a,2)\n",
    "        ax2.axhline(y = b - a, color='red')\n",
    "        ax2.text(n,b-a+0.05,'$y='+str(d)+'$',fontsize=14,color='red')\n",
    "        \n",
    "HTML('''<script>\n",
    "code_show=true; \n",
    "function code_toggle() {\n",
    "    if (code_show){\n",
    "        $('div.cell.code_cell.rendered.selected div.input').show();\n",
    "    } else {\n",
    "        $('div.cell.code_cell.rendered.selected div.input').hide();\n",
    "    }\n",
    "    code_show = !code_show\n",
    "}  \n",
    "$( document ).ready(code_toggle);\n",
    "</script>\n",
    "<form action=\"javascript:code_toggle()\"><input type=\"submit\" value=\"code ? Oui / Non\"></form>''')"
   ]
  },
  {
   "cell_type": "markdown",
   "metadata": {},
   "source": [
    "<span style='color:white;font-weight:bold;background-color:black;width:12px;padding: 2px;font-size:20px'>3.</span> <b><u>Applications :</u></b> simuler l'apparition d'une issue avec <code>random</code>"
   ]
  },
  {
   "cell_type": "markdown",
   "metadata": {},
   "source": [
    "<span style='color:white;font-weight:bold;background-color:#F0573B;padding: 2px;font-size:20px'>a.</span> Quelle est la probabilité que l'instruction suivante renvoie <code>True</code> ?"
   ]
  },
  {
   "cell_type": "code",
   "execution_count": null,
   "metadata": {},
   "outputs": [],
   "source": [
    "0.1 <= random() <= 0.5"
   ]
  },
  {
   "cell_type": "markdown",
   "metadata": {},
   "source": [
    "<span style='color:white;font-weight:bold;background-color:#F0573B;padding: 2px;font-size:20px'>b.</span> Quelle est la probabilité que l'instruction suivante renvoie <code>True</code> ?"
   ]
  },
  {
   "cell_type": "code",
   "execution_count": null,
   "metadata": {},
   "outputs": [],
   "source": [
    "random() <= 0.7"
   ]
  },
  {
   "cell_type": "markdown",
   "metadata": {},
   "source": [
    "<span style='color:white;font-weight:bold;background-color:#F0573B;padding: 2px;font-size:20px'>c.</span> Quelle est la probabilité que l'instruction suivante renvoie <code>True</code> ?"
   ]
  },
  {
   "cell_type": "code",
   "execution_count": null,
   "metadata": {},
   "outputs": [],
   "source": [
    "random() >= 0.6"
   ]
  },
  {
   "cell_type": "markdown",
   "metadata": {},
   "source": [
    "<span style='color:white;font-weight:bold;background-color:#F0573B;padding: 2px;font-size:20px'>d.</span> Compléter la fonction nommée <code>pièce</code> qui simule le lancer d'une pièce équilibrée et qui renvoie $1$ si on obtient pile et $0$ sinon."
   ]
  },
  {
   "cell_type": "code",
   "execution_count": null,
   "metadata": {},
   "outputs": [],
   "source": [
    "def pièce():\n",
    "    if .....................:\n",
    "        return .....\n",
    "    else:\n",
    "        .............."
   ]
  },
  {
   "cell_type": "markdown",
   "metadata": {},
   "source": [
    "<span style='color:white;font-weight:bold;background-color:#F0573B;padding: 2px;font-size:20px'>e.</span> On simule 10 lancers d'une pièce équilibrée. \n",
    "<br> Créer une liste <code>P</code> qui contient 10 éléments de $0$ ou $1$."
   ]
  },
  {
   "cell_type": "code",
   "execution_count": null,
   "metadata": {},
   "outputs": [],
   "source": []
  },
  {
   "cell_type": "markdown",
   "metadata": {},
   "source": [
    "<span style='color:white;font-weight:bold;background-color:#F0573B;padding: 2px;font-size:20px'>f.</span> Calculer la fréquence de piles pour 100 lancers d'une pièce équilibrée."
   ]
  },
  {
   "cell_type": "code",
   "execution_count": null,
   "metadata": {},
   "outputs": [],
   "source": []
  },
  {
   "cell_type": "markdown",
   "metadata": {},
   "source": [
    "<span style='color:white;font-weight:bold;background-color:#F0573B;padding: 2px;font-size:20px'>g.</span> On souhaite simuler 100 lancers d'un dé équilibré. \n",
    "<ul> \n",
    "    <li>Créer une liste <code>D</code> qui contient 1000 éléments de $0$ ou $1$, avec :\n",
    "        <ul>\n",
    "            <li> $1$ on obtient un 6</li>\n",
    "            <li> $0$ sinon</li>\n",
    "        </ul> \n",
    "    </li>\n",
    "    <li> Calculer la fréquence des 6 obtenus.</li>\n",
    "    <li> De quelle nombre est voisin cette fréquence ? </li>\n",
    "</ul>"
   ]
  },
  {
   "cell_type": "code",
   "execution_count": null,
   "metadata": {},
   "outputs": [],
   "source": []
  }
 ],
 "metadata": {
  "celltoolbar": "Format de la Cellule Texte Brut",
  "kernelspec": {
   "display_name": "Python 3",
   "language": "python",
   "name": "python3"
  },
  "language_info": {
   "codemirror_mode": {
    "name": "ipython",
    "version": 3
   },
   "file_extension": ".py",
   "mimetype": "text/x-python",
   "name": "python",
   "nbconvert_exporter": "python",
   "pygments_lexer": "ipython3",
   "version": "3.7.1"
  }
 },
 "nbformat": 4,
 "nbformat_minor": 2
}
