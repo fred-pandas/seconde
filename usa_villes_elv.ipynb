{
 "cells": [
  {
   "cell_type": "markdown",
   "metadata": {},
   "source": [
    "<div id=\"titre\">\n",
    "<h1 style=\"color:white;\n",
    "  font-family:Comic Sans MS;\n",
    "  font-size:3em;\n",
    "  background-color:#F0573B;\n",
    "  text-align:center;\n",
    "  padding:10px\">Top 100 des villes aux USA</h1>\n",
    "<div style=\"font-family:Comic Sans MS; background-color:black;box-shadow: 8px 8px 0px #aaa; text-align:center; width: 50%; color:white\">TP  - chapitre 8 : fonctions racine carrée & inverse </div>\n",
    "</div>"
   ]
  },
  {
   "cell_type": "markdown",
   "metadata": {},
   "source": [
    "On dispose du fichier <code>'usa_100.csv'</code> qui liste le classement des 100 villes les plus peuplées des USA.\n",
    "<br>\n",
    "<br>\n",
    "Chaque ligne de <code>'usa_100.csv'</code> est associée à une ville des USA :\n",
    "<table style=\"border-width:2px;border-style:solid;border-color:#F0573B;\">\n",
    "   <tr style=\"border:2px solid #F0573B;\">\n",
    "       <td style=\"border:2px solid #F0573B;text-align:right;\"><code>nom</code> :</td>\n",
    "       <td style=\"border:2px solid #F0573B;text-align:left;width=500\">nom de la ville</td>\n",
    "   </tr>\n",
    "    <tr style=\"border:2px solid #F0573B;\">\n",
    "       <td style=\"border:2px solid #F0573B;text-align:right;\"><code>lat</code> :</td>\n",
    "       <td style=\"border:2px solid #F0573B;text-align:left;\">la latitude de la ville</td>\n",
    "   </tr>\n",
    "    <tr style=\"border:2px solid #F0573B;\">\n",
    "       <td style=\"border:2px solid #F0573B;text-align:right;\"><code>long</code> :</td>\n",
    "       <td style=\"border:2px solid #F0573B;text-align:left;\">la longitude de la ville</td>\n",
    "   </tr>\n",
    "    <tr style=\"border:2px solid #F0573B;\">\n",
    "       <td style=\"border:2px solid #F0573B;text-align:right;\"><code>pop</code> :</td>\n",
    "       <td style=\"border:2px solid #F0573B;text-align:left;\">la population de la ville</td>\n",
    "   </tr>\n",
    "</table>\n",
    "\n",
    "<br><b><u>Objectifs</u></b>\n",
    "<blockquote style=\"border-left: 10px solid black;background-color:#F0573B\">\n",
    "    <ul>\n",
    "        <li>Représenter la ville de New-York par un disque d'aire égale à 900 unités d'aires</li>\n",
    "        <li>Représenter chaque autre ville par un disque d'aire proportionnelle à la population</li>\n",
    "    </ul>\n",
    "</blockquote>"
   ]
  },
  {
   "cell_type": "markdown",
   "metadata": {},
   "source": [
    "<span style='color:white;font-weight:bold;background-color:black;width:12px;padding: 2px;font-size:20px'>1.</span> Ouverture du fichier "
   ]
  },
  {
   "cell_type": "markdown",
   "metadata": {},
   "source": [
    "Exécuter le code suivant permettant d'ouvrir et lire avec Python le fichier <code>'usa_100.csv'</code>."
   ]
  },
  {
   "cell_type": "code",
   "execution_count": null,
   "metadata": {},
   "outputs": [],
   "source": [
    "import pandas\n",
    "\n",
    "T = pandas.read_csv('usa_100.csv')\n",
    "T.head()"
   ]
  },
  {
   "cell_type": "markdown",
   "metadata": {},
   "source": [
    "<span style='color:white;font-weight:bold;background-color:black;width:12px;padding: 2px;font-size:20px'>2.</span> Disque associé à la ville de New-York"
   ]
  },
  {
   "cell_type": "markdown",
   "metadata": {},
   "source": [
    "<span style='color:white;font-weight:bold;background-color:#F0573B;padding: 2px;font-size:20px'>a.</span> Exécuter l'instruction suivante permettant de charger la fonction <code>sqrt</code> et le nombre <code>pi</code> depuis le module <code>math</code>."
   ]
  },
  {
   "cell_type": "code",
   "execution_count": null,
   "metadata": {},
   "outputs": [],
   "source": [
    "from math import sqrt, pi"
   ]
  },
  {
   "cell_type": "markdown",
   "metadata": {},
   "source": [
    "<span style='color:white;font-weight:bold;background-color:#F0573B;padding: 2px;font-size:20px'>b.</span> On crée une nouvelle colonne nommée <code>'A'</code> contenant l'aire de chaque disque.\n",
    "<br> Exécuter le code suivant pour affecter la valeur 900 à la ville de New-York. "
   ]
  },
  {
   "cell_type": "code",
   "execution_count": null,
   "metadata": {},
   "outputs": [],
   "source": [
    "T.loc[0,'A'] = 900\n",
    "T.head()"
   ]
  },
  {
   "cell_type": "markdown",
   "metadata": {},
   "source": [
    "<span style='color:white;font-weight:bold;background-color:#F0573B;padding: 2px;font-size:20px'>c.</span> Calculer le rayon du disque qui représente New-York.\n",
    "<br> Stocker ce rayon pour la ville de New-York dans une nouvelle colonne nommée <code>'r'</code>."
   ]
  },
  {
   "cell_type": "code",
   "execution_count": null,
   "metadata": {},
   "outputs": [],
   "source": [
    "T.loc[0,'r'] = .....................\n",
    "T.head()"
   ]
  },
  {
   "cell_type": "markdown",
   "metadata": {},
   "source": [
    "<span style='color:white;font-weight:bold;background-color:black;width:12px;padding: 2px;font-size:20px'>3.</span> Disque associé à une autre ville"
   ]
  },
  {
   "cell_type": "markdown",
   "metadata": {},
   "source": [
    "<span style='color:white;font-weight:bold;background-color:#F0573B;padding: 2px;font-size:20px'>a.</span> Stocker la population de New-York dans une variable nommée <code>p</code>."
   ]
  },
  {
   "cell_type": "code",
   "execution_count": null,
   "metadata": {},
   "outputs": [],
   "source": [
    "p = T.loc[0,'............']\n",
    "p"
   ]
  },
  {
   "cell_type": "markdown",
   "metadata": {},
   "source": [
    "<span style='color:white;font-weight:bold;background-color:#F0573B;padding: 2px;font-size:20px'>b.</span> Calculer l'aire du disque associé à Los-Angeles."
   ]
  },
  {
   "cell_type": "code",
   "execution_count": null,
   "metadata": {},
   "outputs": [],
   "source": []
  },
  {
   "cell_type": "markdown",
   "metadata": {},
   "source": [
    "<span style='color:white;font-weight:bold;background-color:#F0573B;padding: 2px;font-size:20px'>c.</span> Compléter le code suivant permettant de remplir intégralement la colonne <code>'A'</code>"
   ]
  },
  {
   "cell_type": "code",
   "execution_count": null,
   "metadata": {},
   "outputs": [],
   "source": [
    "for k in range(1,100):\n",
    "    T.loc[k,'A'] = ....................................\n",
    "T.head()"
   ]
  },
  {
   "cell_type": "markdown",
   "metadata": {},
   "source": [
    "<span style='color:white;font-weight:bold;background-color:#F0573B;padding: 2px;font-size:20px'>d.</span> Compléter le code suivant permettant de remplir intégralement la colonne <code>'r'</code>"
   ]
  },
  {
   "cell_type": "code",
   "execution_count": null,
   "metadata": {},
   "outputs": [],
   "source": [
    "for k in range(1,100):\n",
    "    T.loc[k,'r'] = ......................................\n",
    "T.head()"
   ]
  },
  {
   "cell_type": "markdown",
   "metadata": {},
   "source": [
    "<span style='color:white;font-weight:bold;background-color:black;width:12px;padding: 2px;font-size:20px'>4.</span> Carte dynamique"
   ]
  },
  {
   "cell_type": "markdown",
   "metadata": {},
   "source": [
    "<span style='color:white;font-weight:bold;background-color:#F0573B;padding: 2px;font-size:20px'>a.</span> Exécuter le code permettant de charger le module <code>folium</code>."
   ]
  },
  {
   "cell_type": "code",
   "execution_count": null,
   "metadata": {},
   "outputs": [],
   "source": [
    "import folium"
   ]
  },
  {
   "cell_type": "markdown",
   "metadata": {},
   "source": [
    "<span style='color:white;font-weight:bold;background-color:#F0573B;padding: 2px;font-size:20px'>b.</span> Créons une carte nommée <code>carte</code> centrée aux USA."
   ]
  },
  {
   "cell_type": "code",
   "execution_count": null,
   "metadata": {},
   "outputs": [],
   "source": [
    "carte = folium.Map(location=[35,-95],tiles='stamenterrain', zoom_start=4)\n",
    "carte"
   ]
  },
  {
   "cell_type": "markdown",
   "metadata": {},
   "source": [
    "<span style='color:white;font-weight:bold;background-color:black;width:12px;padding: 2px;font-size:20px'>5.</span> Représentation des villes"
   ]
  },
  {
   "cell_type": "markdown",
   "metadata": {},
   "source": [
    "<span style='color:white;font-weight:bold;background-color:#F0573B;padding: 2px;font-size:20px'>a.</span> Exécuter la fonction nommée <code>cercle</code> de paramètres :\n",
    "<ul>\n",
    "    <li><code>i</code> : <i>le numéro de ville</i></li>\n",
    "    <li><code>couleur</code> : <i>une chaîne de caractères associée à une couleur</i></li>\n",
    "    <li><code>i</code> : <i>une carte de <code>folium</code></i></li>\n",
    "</ul>\n",
    "Elle dessine dans <code>carte</code> le disque associée à la ville de numéro <code>i</code>."
   ]
  },
  {
   "cell_type": "code",
   "execution_count": null,
   "metadata": {},
   "outputs": [],
   "source": [
    "def cercle(i,couleur,carte):\n",
    "    nom = T.loc[i,'nom']\n",
    "    y = T.loc[i,'lat']\n",
    "    x = T.loc[i,'long']\n",
    "    r = T.loc[i,'r']\n",
    "    pop = T.loc[i,'pop'] \n",
    "    folium.CircleMarker(location = (y,x),\n",
    "                        popup = nom+'\\n'+str(pop),\n",
    "                        color = couleur,\n",
    "                        fill_color = couleur,\n",
    "                        radius = r\n",
    "                       ).add_to(carte)"
   ]
  },
  {
   "cell_type": "markdown",
   "metadata": {},
   "source": [
    "<span style='color:white;font-weight:bold;background-color:#F0573B;padding: 2px;font-size:20px'>b.</span> Représenter en rouge la ville de New-York sur <code>carte</code>."
   ]
  },
  {
   "cell_type": "code",
   "execution_count": null,
   "metadata": {},
   "outputs": [],
   "source": [
    "cercle(......,.........,...........)\n",
    "carte"
   ]
  },
  {
   "cell_type": "markdown",
   "metadata": {},
   "source": [
    "<span style='color:white;font-weight:bold;background-color:#F0573B;padding: 2px;font-size:20px'>c.</span> Représenter toutes les autres villes en bleues."
   ]
  },
  {
   "cell_type": "code",
   "execution_count": null,
   "metadata": {},
   "outputs": [],
   "source": []
  }
 ],
 "metadata": {
  "kernelspec": {
   "display_name": "Python 3",
   "language": "python",
   "name": "python3"
  },
  "language_info": {
   "codemirror_mode": {
    "name": "ipython",
    "version": 3
   },
   "file_extension": ".py",
   "mimetype": "text/x-python",
   "name": "python",
   "nbconvert_exporter": "python",
   "pygments_lexer": "ipython3",
   "version": "3.7.1"
  }
 },
 "nbformat": 4,
 "nbformat_minor": 2
}
