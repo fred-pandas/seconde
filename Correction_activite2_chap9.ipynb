{
 "cells": [
  {
   "cell_type": "markdown",
   "metadata": {},
   "source": [
    "<div id=\"titre\">\n",
    "<h1 style=\"color:white;\n",
    "  font-family:Comic Sans MS;\n",
    "  font-size:3em;\n",
    "  background-color:#F0573B;\n",
    "  text-align:center;\n",
    "  padding:10px\">La force de la simulation du hasard</h1>\n",
    "<div style=\"font-family:Comic Sans MS; background-color:black;box-shadow: 8px 8px 0px #aaa; text-align:center; width: 50%; color:white\">Probabilité : chapitre 9</div>\n",
    "</div>"
   ]
  },
  {
   "cell_type": "markdown",
   "metadata": {},
   "source": [
    "<h1 style=\"color:white;background-color:black;text-align:center\"> A : Cold case - l'ffaire Diana Sylvester</h1>"
   ]
  },
  {
   "cell_type": "markdown",
   "metadata": {},
   "source": [
    "<span style='color:white;font-weight:bold;background-color:black;width:12px;padding: 2px;font-size:20px'>1.</span> "
   ]
  },
  {
   "cell_type": "markdown",
   "metadata": {},
   "source": [
    "La probabilité qu'une personne ait le même profil génétique est $\\dfrac{1}{1100000}$"
   ]
  },
  {
   "cell_type": "markdown",
   "metadata": {},
   "source": [
    "<span style='color:white;font-weight:bold;background-color:black;width:12px;padding: 2px;font-size:20px'>2.</span>"
   ]
  },
  {
   "cell_type": "code",
   "execution_count": null,
   "metadata": {},
   "outputs": [],
   "source": [
    "from random import random"
   ]
  },
  {
   "cell_type": "markdown",
   "metadata": {},
   "source": [
    "<span style='color:white;font-weight:bold;background-color:black;width:12px;padding: 2px;font-size:20px'>3.</span>"
   ]
  },
  {
   "cell_type": "code",
   "execution_count": null,
   "metadata": {},
   "outputs": [],
   "source": [
    "def meme_profil(n):\n",
    "    for i in range(n):\n",
    "        if random() <= 1/1100000:\n",
    "            return 1\n",
    "    return 0"
   ]
  },
  {
   "cell_type": "markdown",
   "metadata": {},
   "source": [
    "<span style='color:white;font-weight:bold;background-color:black;width:12px;padding: 2px;font-size:20px'>4.</span>"
   ]
  },
  {
   "cell_type": "code",
   "execution_count": null,
   "metadata": {},
   "outputs": [],
   "source": [
    "def freq(n):\n",
    "    c = 0\n",
    "    for simulation in range(1000):\n",
    "        c = c + meme_profil(n)\n",
    "    return c/1000"
   ]
  },
  {
   "cell_type": "markdown",
   "metadata": {},
   "source": [
    "<span style='color:white;font-weight:bold;background-color:black;width:12px;padding: 2px;font-size:20px'>5.</span>"
   ]
  },
  {
   "cell_type": "code",
   "execution_count": null,
   "metadata": {},
   "outputs": [],
   "source": [
    "freq(380000)"
   ]
  },
  {
   "cell_type": "markdown",
   "metadata": {},
   "source": [
    "<blockquote style=\"border-left: 10px solid black;background-color:#F0573B\">\n",
    "On estime que dans environ $27%$ des cas, on peut retrouver un même profil parmi les 380.000 délinquants.\n",
    "<br> Ceci n'est pas rare du tout !\n",
    "</blockquote>"
   ]
  },
  {
   "cell_type": "markdown",
   "metadata": {},
   "source": [
    "<h1 style=\"color:white;background-color:black;text-align:center\"> B : Egalité de 2 dés</h1>"
   ]
  },
  {
   "cell_type": "markdown",
   "metadata": {},
   "source": [
    "<u><b>Partie A :</b></u>"
   ]
  },
  {
   "cell_type": "markdown",
   "metadata": {},
   "source": [
    "<span style='color:white;font-weight:bold;background-color:black;width:12px;padding: 2px;font-size:20px'>1.</span>"
   ]
  },
  {
   "cell_type": "code",
   "execution_count": null,
   "metadata": {},
   "outputs": [],
   "source": [
    "from random import *\n",
    "import pylab as pl"
   ]
  },
  {
   "cell_type": "markdown",
   "metadata": {},
   "source": [
    "<span style='color:white;font-weight:bold;background-color:black;width:12px;padding: 2px;font-size:20px'>2.</span> "
   ]
  },
  {
   "cell_type": "code",
   "execution_count": null,
   "metadata": {},
   "outputs": [],
   "source": [
    "def égalité():\n",
    "    rouge = randint(1,6)\n",
    "    bleu = randint(1,6)\n",
    "    if rouge == bleu:\n",
    "        return 1\n",
    "    else:\n",
    "        return 0"
   ]
  },
  {
   "cell_type": "markdown",
   "metadata": {},
   "source": [
    "<span style='color:white;font-weight:bold;background-color:black;width:12px;padding: 2px;font-size:20px'>3.</span> "
   ]
  },
  {
   "cell_type": "markdown",
   "metadata": {},
   "source": [
    "<span style='color:white;font-weight:bold;background-color:#F0573B;padding: 2px;font-size:20px'>a.</span>"
   ]
  },
  {
   "cell_type": "code",
   "execution_count": null,
   "metadata": {},
   "outputs": [],
   "source": [
    "def évolution_fréquences(n):\n",
    "    c = 0\n",
    "    for k in range(1,n+1):\n",
    "        c = c + égalité()\n",
    "        f = c/k\n",
    "        pl.plot(k,f,'.',color='red')\n",
    "    pl.show()"
   ]
  },
  {
   "cell_type": "markdown",
   "metadata": {},
   "source": [
    "<span style='color:white;font-weight:bold;background-color:#F0573B;padding: 2px;font-size:20px'>b.</span> Interprétation"
   ]
  },
  {
   "cell_type": "code",
   "execution_count": null,
   "metadata": {},
   "outputs": [],
   "source": [
    "évolution_fréquences(2000)"
   ]
  },
  {
   "cell_type": "markdown",
   "metadata": {},
   "source": [
    "<span style='color:white;font-weight:bold;background-color:#F0573B;padding: 2px;font-size:20px'>c.</span>"
   ]
  },
  {
   "cell_type": "markdown",
   "metadata": {},
   "source": [
    "<blockquote style=\"border-left: 10px solid black;background-color:#F0573B\">\n",
    "D'après la loi des grands nombres, on propose $p\\approx 0,16$\n",
    "</blockquote>"
   ]
  },
  {
   "cell_type": "markdown",
   "metadata": {},
   "source": [
    "<u><b>Partie B :</b></u>"
   ]
  },
  {
   "cell_type": "markdown",
   "metadata": {},
   "source": [
    "<blockquote style=\"border-left: 10px solid black;background-color:#F0573B\">\n",
    "    En faisant un tableau à 2 entrées, on trouve $p=\\dfrac{1}{6}$.\n",
    "</blockquote>"
   ]
  },
  {
   "cell_type": "code",
   "execution_count": null,
   "metadata": {},
   "outputs": [],
   "source": []
  }
 ],
 "metadata": {
  "kernelspec": {
   "display_name": "Python 3",
   "language": "python",
   "name": "python3"
  },
  "language_info": {
   "codemirror_mode": {
    "name": "ipython",
    "version": 3
   },
   "file_extension": ".py",
   "mimetype": "text/x-python",
   "name": "python",
   "nbconvert_exporter": "python",
   "pygments_lexer": "ipython3",
   "version": "3.7.1"
  }
 },
 "nbformat": 4,
 "nbformat_minor": 2
}
